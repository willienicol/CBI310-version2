{
 "cells": [
  {
   "cell_type": "markdown",
   "metadata": {},
   "source": [
    "# Chapter 4: Livestock\n"
   ]
  },
  {
   "cell_type": "markdown",
   "metadata": {},
   "source": [
    "<img src=\"Chickens.jpg\" width=\"500\"/>"
   ]
  },
  {
   "cell_type": "markdown",
   "metadata": {},
   "source": [
    "## What is in a name?\n",
    "\n",
    "Have you ever heard about [*Gallus gallus domesticus*](https://en.wikipedia.org/wiki/Chicken)?\n",
    "\n",
    "<img src=\"chicken 2.png\" width=\"250\"/>\n",
    "\n",
    "[Video: How clever is a chicken?](https://www.youtube.com/watch?v=L7EfLNFRG7M)\n",
    "\n",
    "Before we get into doing calculations on chicken farming, we need to talk a little about classification.\n",
    "\n",
    "\n",
    "Every living thing requires a scientific name. The organizational structure for giving names has changed throughout the last centuries, but let’s start with a simple introduction:\n",
    "\n",
    "[Video: Classification](https://youtu.be/SA02un37GFQ)\n",
    "\n",
    "Lots of different subdivisions before you get to the genus and species names. Don’t bother trying to remember all the different classes. Let’s rather think about how one develops a system of classification. Let’s see what Paul Andersen has to say on the topic:\n",
    "\n",
    "[Video: Paul Anderson on classification](https://www.youtube.com/watch?v=tYL_8gv7RiE)\n",
    "\n",
    "The important part of this video is that DNA is the key to performing proper classification. Before the age of understanding DNA, classification was based on looks and functionality, but have a look at these two bugs, they are completely different by name! How long ago did these two organisms share a common ancestor?\n",
    "\n",
    "<img src=\"bug1.png\" width=\"650\" />\n",
    "  \n",
    "_Glomeris marginata and Armadillidium vulgare (left to right)_\n",
    "\n",
    "So it all has to do with the origin of species. Accordingly, the map of evolution becomes the map of correct classification. All living things share a common ancestor and are more similar to you than you think. Check this out:\n",
    "\n",
    "[Video: Molecules of evolution](https://www.youtube.com/watch?v=nvJFI3ChOUU)\n",
    "\n",
    "Interesting how the molecules that we have discussed in the previous chapters are used by all these different life forms. You should realize how the Tree of Life represents a timeline of evolutionary development. The following interactive chart will give you an idea, and try and develop a feeling for the chart with special emphasis on the initial split points between bacteria, archaea and eukaryotes. Try and play with the map to determine the common ancestors of two vastly different species. When for example did humans split from mushrooms (fungi)😃?\n",
    "\n",
    "[Interactive map: From bacteria to humans](https://www.evogeneao.com/en)\n",
    "\n",
    "For more information on archaea, a relatively recent discovery check this out:\n",
    "\n",
    "[Video: Archaea](https://www.youtube.com/watch?v=0W-uItr5M4g)\n",
    "\n",
    "So whether we are working with humans, plants, chickens, cattle, or microbes (later chapters), we all share a common ancestor. We are in fact all connected!\n",
    "\n",
    "<img src=\"think.jpeg\" width=\"450\" />"
   ]
  },
  {
   "cell_type": "markdown",
   "metadata": {},
   "source": [
    "## The Carnivore diet\n",
    "\n",
    "Let's get back to our calculations. In the previous chapter, we have calculated the amount of fruit and vegetables that must be harvested to supply Ben with his daily food. In Chapter 2 Ben was a vegan, but he has decided to opt for a new diet, the Carnivore diet, where he only consumes animal products. We will accordingly adjust Ben's diet where we supply him with chicken meat and eggs. Since our calculations are set up for sweet potato, kale, soybeans and blackberries we will feed the chickens a similar diet, but our fraction of soybeans will be increased since the majority of chicken feed consists of grains.\n",
    "\n",
    "Given the amount of food and vegetables grown in Chapter 2 for Ben's daily calorific requirements, we can imagine a plot of a certain size required to grow Ben's food. Let's say this plot has an area of $X \\, m^2$. In this chapter, we perform a similar calculation as in Chapter 2, but we will include chickens. We will feed all the fruit and vegetable produce to the chickens while feeding the chickens and their eggs to Ben. In Chapter 4 there will be another plot for growing the chicken feed, this plot will have an area of $Y \\, m^2$. Will $Y$ be bigger than $X$? Think about it. You are going to work out the answer for yourself, with some help from this guide. But before you engage in the calculation make an estimate. An estimate always encourages one to calculate the true value!\n",
    "\n",
    "The diagram below will give you some perspective on the problem.\n",
    "\n",
    "<img src=\"all3.png\" width=\"900\"/>"
   ]
  },
  {
   "cell_type": "markdown",
   "metadata": {},
   "source": [
    "Our chicken farm will consist out of laying hens producing eggs and broilers producing chicken meat. We'll decide how many eggs Ben will have per day and the rest of Ben's 9000 kJ/day will come from chicken meat. The following table contains some useful information on laying hens and broilers.\n",
    "\n",
    "<img src=\"table1.png\" width=\"500\"/>"
   ]
  },
  {
   "cell_type": "markdown",
   "metadata": {},
   "source": [
    "Important to note that the broiler getting slaughtered today was fed with food since 8 weeks ago. If Ben consumes a chicken a day (calculation will show true number) it should be evident that 52000 kJ of food should be supplied on that day since all the chicks of varying sizes need food to grow to slaughter weight. We will consider 65% of the chicken mass as \"chicken meat\" that has a chemical composition of:\n",
    " \n",
    "$$CH_{1.628}O_{0.305}N_{0.241}$$\n",
    "\n",
    "The rest of the chicken will consist of \"chicken waste\" with the following chemical composition:\n",
    "\n",
    "$$CH_{1.79}O_{0.218}N_{0.134}$$\n",
    "\n",
    "The chicken egg (we will neglect the shell for now) can be used as:\n",
    "\n",
    "$$CH_{1.832}O_{0.2218}N_{0.109}$$\n",
    "\n",
    "Lastly the chicken also produces manure (no urine) and the following can be used:\n",
    "\n",
    "$$CH_{1.612}O_{0.553}N_{0.16}$$\n",
    "\n",
    "Note that fiber 1 included in the feed will be part of the manure and that the equation above includes fiber 1. This was not the case at the end of chapter 3 where the humanure equation excluded indigested fiber."
   ]
  },
  {
   "cell_type": "markdown",
   "metadata": {},
   "source": [
    "We can also have a closer look into the composition of chicken meat and eggs:\n",
    "\n",
    "|       | Chicken | Eggs |  per wet mass   |\n",
    "| ----------- | ----------- | ----------- | ----------- |\n",
    "| Protein | 27.3 | 12.6 | g/100g |\n",
    "| Carbohydrates | 0 | 1 | g/100g |\n",
    "| Fat | 13.6 | 9| g/100g |\n",
    "| Fibre | 0 | 0 | g/100g |\n",
    "    | Water | 59.404 | 77.74 | g/100g |\n",
    "| P | 220 | 200 | mg/100g |\n",
    "| M | 84 |140 | mg/100g |\n",
    "|(Water+P+M) | (59.708) |(78.08) | g/100g |"
   ]
  },
  {
   "cell_type": "markdown",
   "metadata": {},
   "source": [
    "Note that the above adds up to 100g for both chicken and eggs. We will neglegt P+M in this calculation. Accordingly, when converting from dry biomass (based on only C,H,O and N) to wet biomass, we have to use the (water+P+M) fraction to include the minerals and water into the wet biomass.\n",
    "\n",
    "We'll define a food mixture of **25% sweet potato, 20% kale, 50% soybean and 5% blackberries**. When setting up your mass balances over the chicken farm, stay with the convention of separating carbs, protein and fat in the feed mixture, similar to your calculation on Ben."
   ]
  },
  {
   "cell_type": "markdown",
   "metadata": {},
   "source": [
    "You are aiming to determine the amount of sweet potato, kale, soybeans and blackberries that need to be fed to the chickens to feed Ben. Your mass balance over the chicken farm should **separate** carbs, protein and fat from the feed. Remember to include water, oxygen and $CO_2$. The outlet products from the \"chicken farm\" process should include **chicken meat, eggs, chicken waste and chicken manure.** The mass balances will be relatively straightforward, but let's have a closer look at the linear energy relationships. There will be two energy relationships, first the cabs, protein and fats fed to the chickens must add up to the total calorific requirements for the laying hens and broilers. The second energy relationship will center around Ben's 9000 kJ/day calorific requirement, where only meat and eggs make up the energy. The carb, protein and fat content of chicken meat and eggs will enable you to calculate the energy content of meat and eggs. Remember to work on a **dry basis** since water in the calculation only refers to the overall reaction water that forms or gets consumed.\n",
    "\n",
    "Given 4 mass balances and 2 energy balances you will require additional specifications. Note that the ratio of carbs to protein, fat, and fiber can be calculated from the plant crops, so this gives you 3 additional specifications. Also, remember the constant ratio between chicken meat and chicken waste. Lastly, we specify the amount of eggs in Ben's diet and with this you should have enough specifications to have a square matrix (same amount of linear equations as components). The matrix below will help you, just fill in the blanks😃.\n",
    "\n",
    "<img src=\"matrix1.png\" width=\"700\"/>"
   ]
  },
  {
   "cell_type": "markdown",
   "metadata": {},
   "source": [
    "a) Given that Ben eats 4 eggs per day, with the rest of his kilojoules from chicken meat determine the amount of $CO_2$ that the chicken farm generates. [2.318kg]\n",
    "\n",
    "b) What is the dry mass of food fed to all the chickens per day? [2.2kg]\n",
    "\n",
    "c) What is the dry mass of food that Ben consumes in a day? [372g]\n",
    "\n",
    "d) How much dry chicken manure is produced in a day? [330.8kg]\n",
    "\n",
    "e) Think about the numbers above and tell me in class what you think."
   ]
  },
  {
   "cell_type": "markdown",
   "metadata": {},
   "source": [
    "### Area X vs. area Y\n",
    "\n",
    "g) The amount of vegetables that Ben consumed on the 4-crop diet was 562.7g (dry) in a day. The chickens consumed 2201g per day of dry food. For our first assumption, we can assume that an equivalent area of land is required per mass of food crop produced (in your assignment you won't be using this simplifying assumption). This implies that area Y is 3.9 times more than area X. What does this figure imply?\n",
    "\n",
    "[Is there enough arable land on earth?](https://www.sciencealert.com/not-enough-land-earth-support-diet-usda-recommends-guidelines-environment-ecosystem-health)"
   ]
  },
  {
   "cell_type": "markdown",
   "metadata": {},
   "source": [
    "### The overall process\n",
    "\n",
    "Try and put crop farming, chicken farming and Ben's carnivore diet all together:\n",
    "\n",
    "<img src=\"all3.png\" width=\"600\"/>\n",
    "\n",
    "Let's start by redoing the matrix on Ben. To simplify the calculation we can directly use the chicken meat and eggs as the feed to Ben (unlike before we don't have to seperate carbs, proteins and fat). Ben will now excrete much more urea than 35g given his massive amount of protein intake. You can assume that 80% of the nitrogen that exits Ben goes out as urea in the urine.\n",
    "\n",
    "h) How much $CO_2$ does Ben now produce in a day? [507.5g]\n",
    "\n",
    "i) How many grams of urea does Ben excrete in a day? [98.6g]\n",
    "\n",
    "Let's continue with the the agriculture mass balance.\n",
    "\n",
    "j) How much plant material has to be produced per day in total? [4.294kg] \n",
    "\n",
    "k) How much $CO_2$ is sequestered by agriculture per day? [7.789kg]\n",
    "\n",
    "Let's also have a look at all 3 processes combined:\n",
    "\n",
    "l) How much $CO_2$ is sequestered over all 3 units combined? [4.963kg]\n",
    "\n",
    "m) What is the total dry mass of organic waste from the process. You can exclude human urine. [2.747kg]\n",
    "\n",
    "\n",
    "\n"
   ]
  },
  {
   "cell_type": "markdown",
   "metadata": {},
   "source": [
    "One important question to answer is whether meat from animals is required in the human diet. Meat adds a flavor to food, but vegetarians will argue that it is not a requirement in the human diet. Of course, vegetarians still consume eggs and milk and thus livestock farming is still required to some extent. Only vegans live on plant-based food only and they will argue that they get all the nutrition required for human health. Have a look at the following video and develop your own opinion on the statements used. We'll have a short discussion in class on the video.\n",
    "\n",
    "[Video: Do we need meat?](https://youtu.be/GhCmcQaJmso)\n",
    "\n"
   ]
  }
 ],
 "metadata": {
  "kernelspec": {
   "display_name": "Python 3 (ipykernel)",
   "language": "python",
   "name": "python3"
  },
  "language_info": {
   "codemirror_mode": {
    "name": "ipython",
    "version": 3
   },
   "file_extension": ".py",
   "mimetype": "text/x-python",
   "name": "python",
   "nbconvert_exporter": "python",
   "pygments_lexer": "ipython3",
   "version": "3.9.13"
  }
 },
 "nbformat": 4,
 "nbformat_minor": 4
}
